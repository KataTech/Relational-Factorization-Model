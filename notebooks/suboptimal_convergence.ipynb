{
 "cells": [
  {
   "cell_type": "code",
   "execution_count": 1,
   "metadata": {},
   "outputs": [],
   "source": [
    "import numpy as np\n",
    "import matplotlib.pyplot as plt \n",
    "from constants import ROOT_DIR\n",
    "import sys\n",
    "import networkx as nx\n",
    "\n",
    "# setting the path of this notebook to the root directory\n",
    "sys.path.append(ROOT_DIR)\n",
    "# import libraries custom in this repository\n",
    "import methods.DataIO as DataIO\n",
    "import methods.GromovWassersteinFramework as GWL\n",
    "import dev.generate_util as Gen"
   ]
  },
  {
   "cell_type": "code",
   "execution_count": 2,
   "metadata": {},
   "outputs": [],
   "source": [
    "cycle_g = nx.Graph(Gen.gen_cycle_graph(5))"
   ]
  },
  {
   "cell_type": "code",
   "execution_count": 3,
   "metadata": {},
   "outputs": [],
   "source": [
    "def annot_heatmap(mat, title): \n",
    "    fig, ax = plt.subplots()\n",
    "    im = ax.imshow(mat)\n",
    "    for i in range(mat.shape[0]):\n",
    "        for j in range(mat.shape[1]):\n",
    "            text = ax.text(j, i, mat[i, j],\n",
    "                    ha=\"center\", va=\"center\", color = \"w\")\n",
    "    ax.set_title(title)\n",
    "    fig.tight_layout()\n",
    "    plt.show()"
   ]
  },
  {
   "cell_type": "code",
   "execution_count": 4,
   "metadata": {},
   "outputs": [
    {
     "name": "stdout",
     "output_type": "stream",
     "text": [
      "Probability Vector for Source:\n",
      " [[0.2 0.2 0.2 0.2 0.2]] \n",
      "\n",
      "Adjacency Matrix for Source:\n",
      " [[0. 1. 0. 0. 1.]\n",
      " [1. 0. 1. 0. 0.]\n",
      " [0. 1. 0. 1. 0.]\n",
      " [0. 0. 1. 0. 1.]\n",
      " [1. 0. 0. 1. 0.]] \n",
      "\n",
      "Probability Vector for Target:\n",
      " [[0.2 0.2 0.2 0.2 0.2]] \n",
      "\n",
      "Adjacency Matrix for Target:\n",
      " [[0. 1. 0. 0. 1.]\n",
      " [1. 0. 1. 0. 0.]\n",
      " [0. 1. 0. 1. 0.]\n",
      " [0. 0. 1. 0. 1.]\n",
      " [1. 0. 0. 1. 0.]]\n"
     ]
    }
   ],
   "source": [
    "p_s, cost_s, _ = DataIO.extract_graph_info(cycle_g)\n",
    "p_s /= np.sum(p_s); cost_s = cost_s + cost_s.T\n",
    "p_t, cost_t, _ = DataIO.extract_graph_info(cycle_g)\n",
    "p_t /= np.sum(p_t); cost_t = cost_t + cost_t.T\n",
    "\n",
    "print(\"Probability Vector for Source:\\n\", p_s.T, \"\\n\")\n",
    "print(\"Adjacency Matrix for Source:\\n\", cost_s.toarray(), \"\\n\")\n",
    "\n",
    "print(\"Probability Vector for Target:\\n\", p_t.T, \"\\n\")\n",
    "print(\"Adjacency Matrix for Target:\\n\", cost_t.toarray())"
   ]
  },
  {
   "cell_type": "code",
   "execution_count": 5,
   "metadata": {},
   "outputs": [
    {
     "data": {
      "image/png": "[encoded data removed]",
      "text/plain": [
       "<Figure size 640x480 with 1 Axes>"
      ]
     },
     "metadata": {},
     "output_type": "display_data"
    }
   ],
   "source": [
    "n_s = cost_s.shape[0]\n",
    "n_t = cost_t.shape[0]\n",
    "\n",
    "f1_st = np.repeat((cost_s.multiply(cost_s)) @ p_s, n_t, axis=1)\n",
    "f2_st = np.repeat(((cost_t.multiply(cost_t)) @ p_t).T, n_s, axis=0)\n",
    "\n",
    "cost_st = f1_st + f2_st\n",
    "\n",
    "annot_heatmap(cost_st, \"Cost_ST\")"
   ]
  },
  {
   "cell_type": "code",
   "execution_count": 13,
   "metadata": {},
   "outputs": [],
   "source": [
    "trans_init = p_s @ p_t.T\n",
    "a = p_s"
   ]
  },
  {
   "cell_type": "code",
   "execution_count": 26,
   "metadata": {},
   "outputs": [],
   "source": [
    "temp = (cost_st - 2 * cost_s @ trans_init @ cost_t.T)\n",
    "trans, a = GWL.sinkhorn_knopp_iteration(cost=temp,\n",
    "                                        p_s=p_s,\n",
    "                                        p_t=p_t,\n",
    "                                        a=a,\n",
    "                                        trans0=None,\n",
    "                                        beta=0.01,\n",
    "                                        error_bound=1e-30,\n",
    "                                        max_iter=10)"
   ]
  },
  {
   "cell_type": "code",
   "execution_count": 27,
   "metadata": {},
   "outputs": [
    {
     "data": {
      "text/plain": [
       "array([[0.04, 0.04, 0.04, 0.04, 0.04],\n",
       "       [0.04, 0.04, 0.04, 0.04, 0.04],\n",
       "       [0.04, 0.04, 0.04, 0.04, 0.04],\n",
       "       [0.04, 0.04, 0.04, 0.04, 0.04],\n",
       "       [0.04, 0.04, 0.04, 0.04, 0.04]])"
      ]
     },
     "execution_count": 27,
     "metadata": {},
     "output_type": "execute_result"
    }
   ],
   "source": [
    "trans"
   ]
  },
  {
   "cell_type": "code",
   "execution_count": null,
   "metadata": {},
   "outputs": [],
   "source": [
    "ot_hyperpara = {}"
   ]
  },
  {
   "cell_type": "code",
   "execution_count": null,
   "metadata": {},
   "outputs": [],
   "source": [
    "cost = node_cost(cost_s, cost_t, trans0, cost_st, ot_hyperpara['loss_type'])\n",
    "if ot_hyperpara['ot_method'] == 'proximal':\n",
    "    trans, a = sinkhorn_knopp_iteration(cost=cost,\n",
    "                                        p_s=p_s,\n",
    "                                        p_t=p_t,\n",
    "                                        a=a,\n",
    "                                        trans0=trans0,\n",
    "                                        beta=ot_hyperpara['beta'],\n",
    "                                        error_bound=ot_hyperpara['sk_bound'],\n",
    "                                        max_iter=ot_hyperpara['inner_iteration'])"
   ]
  }
 ],
 "metadata": {
  "kernelspec": {
   "display_name": "base",
   "language": "python",
   "name": "python3"
  },
  "language_info": {
   "codemirror_mode": {
    "name": "ipython",
    "version": 3
   },
   "file_extension": ".py",
   "mimetype": "text/x-python",
   "name": "python",
   "nbconvert_exporter": "python",
   "pygments_lexer": "ipython3",
   "version": "3.10.8 (main, Nov 24 2022, 08:09:04) [Clang 14.0.6 ]"
  },
  "orig_nbformat": 4,
  "vscode": {
   "interpreter": {
    "hash": "c7b53d556fd94c984e2f45fb8a30e0edf37143b29ba6f784107d0d3a34c9c6bd"
   }
  }
 },
 "nbformat": 4,
 "nbformat_minor": 2
}
