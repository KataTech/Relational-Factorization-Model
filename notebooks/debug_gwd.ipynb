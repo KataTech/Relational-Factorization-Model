{
 "cells": [
  {
   "cell_type": "code",
   "execution_count": null,
   "metadata": {},
   "outputs": [],
   "source": [
    "import numpy as np \n",
    "import pandas as pd \n",
    "import sys\n",
    "import networkx as nx \n",
    "import seaborn as sns \n",
    "from constants import ROOT_DIR\n",
    "\n",
    "# setting the path of this notebook to the root directory\n",
    "sys.path.append(ROOT_DIR)\n",
    "# import libraries custom in this repository\n",
    "import methods.DataIO as DataIO\n",
    "import methods.GromovWassersteinFramework as GWL\n",
    "import dev.generate_util as Gen\n",
    "\n",
    "sns.set()\n",
    "%matplotlib inline"
   ]
  }
 ],
 "metadata": {
  "kernelspec": {
   "display_name": "base",
   "language": "python",
   "name": "python3"
  },
  "language_info": {
   "name": "python",
   "version": "3.10.8 (main, Nov 24 2022, 08:09:04) [Clang 14.0.6 ]"
  },
  "orig_nbformat": 4,
  "vscode": {
   "interpreter": {
    "hash": "c7b53d556fd94c984e2f45fb8a30e0edf37143b29ba6f784107d0d3a34c9c6bd"
   }
  }
 },
 "nbformat": 4,
 "nbformat_minor": 2
}
