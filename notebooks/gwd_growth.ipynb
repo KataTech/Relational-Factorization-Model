{
 "cells": [
  {
   "cell_type": "code",
   "execution_count": 1,
   "metadata": {},
   "outputs": [],
   "source": [
    "import numpy as np \n",
    "import matplotlib.pyplot as plt\n",
    "import sys \n",
    "import networkx as nx \n",
    "import seaborn as sns \n",
    "from constants import ROOT_DIR\n",
    "\n",
    "# setting the path of this notebook to the root directory\n",
    "sys.path.append(ROOT_DIR)\n",
    "# import libraries custom in this repository\n",
    "import methods.DataIO as DataIO\n",
    "import methods.GromovWassersteinFramework as GWL\n",
    "import dev.generate_util as Gen\n",
    "\n",
    "sns.set()\n",
    "%matplotlib inline"
   ]
  },
  {
   "attachments": {},
   "cell_type": "markdown",
   "metadata": {},
   "source": [
    "Set experiment parameters: \n",
    "\n",
    "- `GEN_FUNC` is the generating function for a graph adjacency matrix\n",
    "- `UNDIRECTED` is a boolean for whether the graph is undirected\n",
    "- `BASE_SIZE` is the number of nodes in the smaller graph\n",
    "- `MAX_DIFF` is the maximum discrepancy between the base graph and a larger graph\n",
    "- `INCREMENTS` is the incremental unit between base graph and larger graph from iteration (i) to (i + 1)\n",
    "- `OT_DICT` is a dictionary containing the arguments to the optimal transport training process"
   ]
  },
  {
   "cell_type": "code",
   "execution_count": 17,
   "metadata": {},
   "outputs": [],
   "source": [
    "GEN_FUNC = Gen.gen_star_graph\n",
    "UNDIRECTED = True \n",
    "BASE_SIZE = 10\n",
    "MAX_SIZE = 20\n",
    "INCREMENTS = 1\n",
    "OUTER_ITER = 1000\n",
    "INNER_ITER = 10\n",
    "GEN_FUNC_NAME = f\"Cycle with base size = {BASE_SIZE}\"\n",
    "\n",
    "OT_DICT = {'loss_type': 'L2',  # the key hyperparameters of GW distance\n",
    "            'ot_method': 'proximal',\n",
    "            'beta': 0.01,\n",
    "            'outer_iteration': OUTER_ITER,  # outer, inner iteration, error bound of optimal transport\n",
    "            'iter_bound': 1e-30,\n",
    "            'inner_iteration': INNER_ITER,\n",
    "            'sk_bound': 1e-30,\n",
    "            'max_iter': 1,  # iteration and error bound for calcuating barycenter\n",
    "            'cost_bound': 1e-16,\n",
    "            'update_p': False,  # optional updates of source distribution\n",
    "            'lr': 0.1,\n",
    "            'node_prior': None,\n",
    "            'alpha': 0,\n",
    "            'test_mode': True}"
   ]
  },
  {
   "cell_type": "code",
   "execution_count": 18,
   "metadata": {},
   "outputs": [
    {
     "ename": "ValueError",
     "evalue": "could not broadcast input array from shape (5,) into shape (1000,)",
     "output_type": "error",
     "traceback": [
      "\u001b[0;31m---------------------------------------------------------------------------\u001b[0m",
      "\u001b[0;31mValueError\u001b[0m                                Traceback (most recent call last)",
      "Cell \u001b[0;32mIn[18], line 27\u001b[0m\n\u001b[1;32m     25\u001b[0m \u001b[39mfor\u001b[39;00m j \u001b[39min\u001b[39;00m \u001b[39mrange\u001b[39m(INNER_ITER): \n\u001b[1;32m     26\u001b[0m     trans, d_gw, _ \u001b[39m=\u001b[39m GWL\u001b[39m.\u001b[39mgromov_wasserstein_discrepancy(cost_s, cost_t, p_s, p_t, OT_DICT)\n\u001b[0;32m---> 27\u001b[0m     dgw_vec[:, j] \u001b[39m=\u001b[39m d_gw\n\u001b[1;32m     28\u001b[0m \u001b[39m# store the mean and SDs for last iteration\u001b[39;00m\n\u001b[1;32m     29\u001b[0m results_mean[i] \u001b[39m=\u001b[39m np\u001b[39m.\u001b[39mmean(dgw_vec, axis\u001b[39m=\u001b[39m\u001b[39m1\u001b[39m)[INNER_ITER \u001b[39m-\u001b[39m \u001b[39m1\u001b[39m]\n",
      "\u001b[0;31mValueError\u001b[0m: could not broadcast input array from shape (5,) into shape (1000,)"
     ]
    }
   ],
   "source": [
    "N_EXPERIMENTS = (MAX_SIZE - BASE_SIZE) // INCREMENTS\n",
    "\n",
    "# initialize storage vector for experimental results\n",
    "results_mean = np.zeros(N_EXPERIMENTS)\n",
    "results_std = np.zeros(N_EXPERIMENTS)\n",
    "\n",
    "# initialize base graph \n",
    "base_graph = nx.Graph(GEN_FUNC(BASE_SIZE))\n",
    "p_s, cost_s, _ = DataIO.extract_graph_info(base_graph)\n",
    "p_s /= np.sum(p_s) \n",
    "if UNDIRECTED: \n",
    "    cost_s = cost_s + cost_s.T\n",
    "\n",
    "for i in range(1, N_EXPERIMENTS): \n",
    "    # create a new instance of graph with INCREMENT larger size \n",
    "    # than the previous iteration\n",
    "    new_size = BASE_SIZE + i * INCREMENTS\n",
    "    new_graph = nx.Graph(GEN_FUNC(new_size))\n",
    "    p_t, cost_t, _ = DataIO.extract_graph_info(new_graph)\n",
    "    p_t /= np.sum(p_t)\n",
    "    if UNDIRECTED: \n",
    "        cost_t = cost_t + cost_t.T\n",
    "    # compute gromov-wasserstein differential between base graph and new graph\n",
    "    d_gw = None\n",
    "    for j in range(INNER_ITER): \n",
    "        trans, d_gw, _ = GWL.gromov_wasserstein_discrepancy(cost_s, cost_t, p_s, p_t, OT_DICT)\n",
    "\n",
    "    # store the mean and SDs for last iteration\n",
    "    results_mean[i] = np.mean(d_gw)\n",
    "    results_std[i] = 0.25 * np.std(d_gw)\n",
    "\n",
    "# remove the first entries b/c they default to zero\n",
    "results_mean = results_mean[1:]\n",
    "results_std = results_std[1:]\n",
    "\n",
    "# visualize the results \n",
    "plt.figure(figsize=(5, 5))\n",
    "plt.plot(range(1, N_EXPERIMENTS), results_mean, label=GEN_FUNC_NAME, color='blue')\n",
    "plt.fill_between(range(1, N_EXPERIMENTS), results_mean - results_std, results_mean + results_std,\n",
    "                    color='blue', alpha=0.2)\n",
    "plt.legend()\n",
    "plt.xlabel('Difference in Size')\n",
    "plt.ylabel('GW discrepancy')"
   ]
  }
 ],
 "metadata": {
  "kernelspec": {
   "display_name": "base",
   "language": "python",
   "name": "python3"
  },
  "language_info": {
   "codemirror_mode": {
    "name": "ipython",
    "version": 3
   },
   "file_extension": ".py",
   "mimetype": "text/x-python",
   "name": "python",
   "nbconvert_exporter": "python",
   "pygments_lexer": "ipython3",
   "version": "3.10.8 (main, Nov 24 2022, 08:09:04) [Clang 14.0.6 ]"
  },
  "orig_nbformat": 4,
  "vscode": {
   "interpreter": {
    "hash": "c7b53d556fd94c984e2f45fb8a30e0edf37143b29ba6f784107d0d3a34c9c6bd"
   }
  }
 },
 "nbformat": 4,
 "nbformat_minor": 2
}
