{
 "cells": [
  {
   "cell_type": "code",
   "execution_count": 5,
   "metadata": {},
   "outputs": [],
   "source": [
    "import numpy as np \n",
    "import matplotlib.pyplot as plt\n",
    "import sys \n",
    "import networkx as nx \n",
    "import seaborn as sns \n",
    "from constants import ROOT_DIR\n",
    "\n",
    "# setting the path of this notebook to the root directory\n",
    "sys.path.append(ROOT_DIR)\n",
    "# import libraries custom in this repository\n",
    "import methods.DataIO as DataIO\n",
    "import methods.GromovWassersteinFramework as GWL\n",
    "import dev.generate_util as Gen\n",
    "\n",
    "sns.set()\n",
    "%matplotlib inline"
   ]
  },
  {
   "attachments": {},
   "cell_type": "markdown",
   "metadata": {},
   "source": [
    "Set experiment parameters: \n",
    "\n",
    "- `GEN_FUNC` is the generating function for a graph adjacency matrix\n",
    "- `UNDIRECTED` is a boolean for whether the graph is undirected\n",
    "- `BASE_SIZE` is the number of nodes in the smaller graph\n",
    "- `MAX_DIFF` is the maximum discrepancy between the base graph and a larger graph\n",
    "- `INCREMENTS` is the incremental unit between base graph and larger graph from iteration (i) to (i + 1)\n",
    "- `OT_DICT` is a dictionary containing the arguments to the optimal transport training process"
   ]
  },
  {
   "cell_type": "code",
   "execution_count": 8,
   "metadata": {},
   "outputs": [],
   "source": [
    "GEN_FUNC = Gen.gen_cycle_graph\n",
    "UNDIRECTED = True \n",
    "BASE_SIZE = 10\n",
    "MAX_DIFF = 100\n",
    "INCREMENTS = 1\n",
    "\n",
    "OT_DICT = {'loss_type': 'L2',  # the key hyperparameters of GW distance\n",
    "            'ot_method': 'proximal',\n",
    "            'beta': 0.01,\n",
    "            'outer_iteration': 3000,  # outer, inner iteration, error bound of optimal transport\n",
    "            'iter_bound': 1e-30,\n",
    "            'inner_iteration': 1,\n",
    "            'sk_bound': 1e-30,\n",
    "            'max_iter': 1,  # iteration and error bound for calcuating barycenter\n",
    "            'cost_bound': 1e-16,\n",
    "            'update_p': False,  # optional updates of source distribution\n",
    "            'lr': 0.1,\n",
    "            'node_prior': None,\n",
    "            'alpha': 0,\n",
    "            'test_mode': True}"
   ]
  },
  {
   "cell_type": "code",
   "execution_count": 7,
   "metadata": {},
   "outputs": [
    {
     "ename": "SyntaxError",
     "evalue": "incomplete input (2247560103.py, line 5)",
     "output_type": "error",
     "traceback": [
      "\u001b[0;36m  Cell \u001b[0;32mIn[7], line 5\u001b[0;36m\u001b[0m\n\u001b[0;31m    for i in range(N_EXPERIMENTS):\u001b[0m\n\u001b[0m                                   ^\u001b[0m\n\u001b[0;31mSyntaxError\u001b[0m\u001b[0;31m:\u001b[0m incomplete input\n"
     ]
    }
   ],
   "source": [
    "N_EXPERIMENTS = (MAX_DIFF - BASE_SIZE) // INCREMENTS\n",
    "\n",
    "# initialize storage vector for experimental results\n",
    "results = np.zeros(N_EXPERIMENTS)\n",
    "base_graph = nx.Graph(GEN_FUNC(BASE_SIZE))\n",
    "p_s, cost_s, _ = DataIO.extract_graph_info(base_graph)\n",
    "if UNDIRECTED: \n",
    "    cost_s = cost_s + cost_s.T\n",
    "\n",
    "for i in range(1, N_EXPERIMENTS): \n",
    "    # create a new instance of graph with INCREMENT larger size \n",
    "    # than the previous iteration\n",
    "    new_size = BASE_SIZE + i * INCREMENTS\n",
    "    new_graph = nx.Graph(GEN_FUNC(new_size))\n",
    "    p_t, cost_t, _ = DataIO.extract_graph_info(new_graph)\n",
    "    if UNDIRECTED: \n",
    "        cost_t = cost_t + cost_t.T\n",
    "    # compute gromov-wasserstein differential between base graph and new graph\n",
    "    \n",
    "    \n"
   ]
  },
  {
   "cell_type": "code",
   "execution_count": null,
   "metadata": {},
   "outputs": [],
   "source": []
  }
 ],
 "metadata": {
  "kernelspec": {
   "display_name": "base",
   "language": "python",
   "name": "python3"
  },
  "language_info": {
   "codemirror_mode": {
    "name": "ipython",
    "version": 3
   },
   "file_extension": ".py",
   "mimetype": "text/x-python",
   "name": "python",
   "nbconvert_exporter": "python",
   "pygments_lexer": "ipython3",
   "version": "3.10.8"
  },
  "orig_nbformat": 4,
  "vscode": {
   "interpreter": {
    "hash": "c7b53d556fd94c984e2f45fb8a30e0edf37143b29ba6f784107d0d3a34c9c6bd"
   }
  }
 },
 "nbformat": 4,
 "nbformat_minor": 2
}
