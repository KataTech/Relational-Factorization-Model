{
 "cells": [
  {
   "cell_type": "code",
   "execution_count": 1,
   "metadata": {},
   "outputs": [
    {
     "name": "stderr",
     "output_type": "stream",
     "text": [
      "2023-01-25 15:36:43.073165: I tensorflow/core/platform/cpu_feature_guard.cc:193] This TensorFlow binary is optimized with oneAPI Deep Neural Network Library (oneDNN) to use the following CPU instructions in performance-critical operations:  SSE4.1 SSE4.2 AVX AVX2 FMA\n",
      "To enable them in other operations, rebuild TensorFlow with the appropriate compiler flags.\n"
     ]
    }
   ],
   "source": [
    "import numpy as np \n",
    "import ot \n",
    "import sys \n",
    "import matplotlib.pyplot as plt\n",
    "import seaborn as sns\n",
    "import networkx as nx\n",
    "from constants import ROOT_DIR\n",
    "\n",
    "sys.path.append(ROOT_DIR)\n",
    "\n",
    "from methods import DataIO\n",
    "from methods import GromovWassersteinFramework\n",
    "import dev.generate_util as Gen\n",
    "\n",
    "sns.set()\n",
    "%matplotlib inline"
   ]
  },
  {
   "cell_type": "code",
   "execution_count": 2,
   "metadata": {},
   "outputs": [],
   "source": [
    "def process_graph(graph, weights=None): \n",
    "    \"\"\"\n",
    "    Compute the probability distribution and shortest path matrix given a graph. \n",
    "\n",
    "    Inputs: \n",
    "        - graph: a networkx graph\n",
    "    \n",
    "    Outputs: \n",
    "        - p: a numpy vector representing the node distributions of nx_graph\n",
    "        - cost: a cost matrix representing the shortest distance between nodes\n",
    "    \"\"\"\n",
    "    # initialize variables\n",
    "    probs = np.zeros((len(graph.nodes), 1))\n",
    "    cost = nx.floyd_warshall_numpy(graph)\n",
    "    # populate the probaility distribution of the nodes \n",
    "    # by the number of neighbors they carry \n",
    "    for edge in graph.edges:\n",
    "        src = edge[0]\n",
    "        dst = edge[1]\n",
    "        if weights is None:\n",
    "            probs[src, 0] += 1\n",
    "            probs[dst, 0] += 1\n",
    "        else:\n",
    "            probs[src, 0] += weights[src, dst]\n",
    "            probs[dst, 0] += weights[src, dst]\n",
    "    # normalize to form the probability\n",
    "    probs /= np.sum(probs)\n",
    "    return probs.flatten(), cost"
   ]
  },
  {
   "cell_type": "code",
   "execution_count": 3,
   "metadata": {},
   "outputs": [],
   "source": [
    "def compute_gwd(p_s, p_t, cost_s, cost_t, k=0.01, get_trans=False): \n",
    "    \"\"\"\n",
    "    Wrapper function for computing GW_Dist\n",
    "    \"\"\"\n",
    "    trans, info = ot.gromov.entropic_gromov_wasserstein(cost_s, cost_t, p_s, p_t, \n",
    "                    loss_fun=\"square_loss\", epsilon=k, log=True)\n",
    "    gw_dist = info[\"gw_dist\"]\n",
    "    if get_trans: \n",
    "        plt.figure(figsize=(20, 20))\n",
    "        plt.imshow(trans)\n",
    "        plt.colorbar(fraction=0.046, pad=0.04)\n",
    "        return gw_dist, trans\n",
    "    return gw_dist\n",
    "\n",
    "def compute_gwd2(p_s, p_t, cost_s, cost_t, k=0.01, get_trans=False): \n",
    "    \"\"\"\n",
    "    Wrapper function for computing GW_Dist\n",
    "    \"\"\"\n",
    "    gw_dist, info = ot.gromov.entropic_gromov_wasserstein2(cost_s, cost_t, p_s, p_t, \n",
    "                    loss_fun=\"square_loss\", epsilon=k, log=True)\n",
    "    trans = info[\"T\"]\n",
    "    if get_trans: \n",
    "        plt.figure(figsize=(20, 20))\n",
    "        plt.imshow(trans)\n",
    "        plt.colorbar(fraction=0.046, pad=0.04)\n",
    "        return gw_dist, trans\n",
    "    return gw_dist"
   ]
  },
  {
   "cell_type": "code",
   "execution_count": 4,
   "metadata": {},
   "outputs": [],
   "source": [
    "def compute_gwd_graph(source, target, k=0.01, get_trans=False): \n",
    "    \"\"\"\n",
    "    Wrapper function for computing GW_Dist\n",
    "    \"\"\"\n",
    "    p_s, cost_s = process_graph(source)\n",
    "    p_t, cost_t = process_graph(target)\n",
    "    trans, info = ot.gromov.entropic_gromov_wasserstein(cost_s, cost_t, p_s, p_t, \n",
    "                    loss_fun=\"square_loss\", epsilon=k, log=True)\n",
    "    gw_dist = info[\"gw_dist\"]\n",
    "    if get_trans: \n",
    "        plt.figure(figsize=(20, 20))\n",
    "        plt.imshow(trans)\n",
    "        plt.colorbar(fraction=0.046, pad=0.04)\n",
    "        return gw_dist, trans\n",
    "    return gw_dist\n",
    "\n",
    "def compute_gwd2_graph(source, target, k=0.01, get_trans=False): \n",
    "    \"\"\"\n",
    "    Wrapper function for computing GW_Dist\n",
    "    \"\"\"\n",
    "    p_s, cost_s = process_graph(source)\n",
    "    p_t, cost_t = process_graph(target)\n",
    "    gw_dist, info = ot.gromov.entropic_gromov_wasserstein2(cost_s, cost_t, p_s, p_t, \n",
    "                    loss_fun=\"square_loss\", epsilon=k, log=True)\n",
    "    trans = info[\"T\"]\n",
    "    if get_trans: \n",
    "        plt.figure(figsize=(20, 20))\n",
    "        plt.imshow(trans)\n",
    "        plt.colorbar(fraction=0.046, pad=0.04)\n",
    "        return gw_dist, trans\n",
    "    return gw_dist"
   ]
  },
  {
   "cell_type": "code",
   "execution_count": 5,
   "metadata": {},
   "outputs": [],
   "source": [
    "def gwd_growth_epsilon(graph_s, graph_t, params, title=None, verbose=False): \n",
    "    \"\"\"\n",
    "    Visualization of GW distance growth over epsilon values to test numerical instability.\n",
    "    Displays a plot, no return value. \n",
    "\n",
    "    Input: \n",
    "        - graph_s: a networkx graph, represents the source graph\n",
    "        - graph_t: a networkx graph, represents the target graph\n",
    "        - params: a vector of epsilon values to try\n",
    "    \"\"\"\n",
    "    # ensure that the params are ordered\n",
    "    params.sort()\n",
    "    gw_dists = np.full(len(params), 0)\n",
    "    p_s, cost_s = process_graph(graph_s)\n",
    "    p_t, cost_t = process_graph(graph_t)\n",
    "    for i, k in enumerate(params): \n",
    "        if verbose: \n",
    "            print(f\"Processing epsilon = {k}.....\")\n",
    "        try: \n",
    "            gw_dists[i] = compute_gwd(p_s, p_t, cost_s, cost_t, k)\n",
    "        except RuntimeError: \n",
    "            print(f\"Encounter divide-by-zero error at epsilon = {k}\")\n",
    "    # visualize \n",
    "    plt.plot(params, gw_dists)\n",
    "    plt.ylabel(\"Gromov-Wasserstein Distance\")\n",
    "    plt.xlabel(\"Epsilon\")\n",
    "    if title is not None: \n",
    "        plt.title(title)\n",
    "    else: \n",
    "        plt.title(\"Growth of GW Dist vs. Epsilon\")"
   ]
  }
 ],
 "metadata": {
  "kernelspec": {
   "display_name": "base",
   "language": "python",
   "name": "python3"
  },
  "language_info": {
   "codemirror_mode": {
    "name": "ipython",
    "version": 3
   },
   "file_extension": ".py",
   "mimetype": "text/x-python",
   "name": "python",
   "nbconvert_exporter": "python",
   "pygments_lexer": "ipython3",
   "version": "3.10.8"
  },
  "orig_nbformat": 4,
  "vscode": {
   "interpreter": {
    "hash": "c7b53d556fd94c984e2f45fb8a30e0edf37143b29ba6f784107d0d3a34c9c6bd"
   }
  }
 },
 "nbformat": 4,
 "nbformat_minor": 2
}
